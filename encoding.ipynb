{
  "nbformat": 4,
  "nbformat_minor": 0,
  "metadata": {
    "colab": {
      "provenance": [],
      "machine_shape": "hm",
      "gpuType": "V28",
      "authorship_tag": "ABX9TyO/8jEAZihURhovrBFRllpG",
      "include_colab_link": true
    },
    "kernelspec": {
      "name": "python3",
      "display_name": "Python 3"
    },
    "language_info": {
      "name": "python"
    },
    "accelerator": "TPU"
  },
  "cells": [
    {
      "cell_type": "markdown",
      "metadata": {
        "id": "view-in-github",
        "colab_type": "text"
      },
      "source": [
        "<a href=\"https://colab.research.google.com/github/omar-omar-om/gradProject-notebooks/blob/main/encoding.ipynb\" target=\"_parent\"><img src=\"https://colab.research.google.com/assets/colab-badge.svg\" alt=\"Open In Colab\"/></a>"
      ]
    },
    {
      "cell_type": "code",
      "source": [
        "import pandas as pd\n",
        "import numpy as np\n",
        "import os\n",
        "import json\n",
        "import pickle\n",
        "from sklearn.model_selection import train_test_split\n",
        "from sklearn.preprocessing import LabelEncoder\n",
        "from google.colab import drive"
      ],
      "metadata": {
        "id": "rVkCJAQib_HT"
      },
      "execution_count": null,
      "outputs": []
    },
    {
      "cell_type": "markdown",
      "source": [
        "#  Reading and inspecting dataset"
      ],
      "metadata": {
        "id": "MDJv8Z3nceXW"
      }
    },
    {
      "cell_type": "code",
      "source": [
        "# Mount Google Drive\n",
        "drive.mount('/content/drive')\n",
        "\n",
        "# Define dataset path\n",
        "dataset_path = '/content/drive/My Drive/output.csv'\n",
        "df = pd.read_csv(dataset_path)\n",
        "\n",
        "# Preview the dataset\n",
        "print(df.head())\n",
        "print(df.shape)\n"
      ],
      "metadata": {
        "colab": {
          "base_uri": "https://localhost:8080/"
        },
        "id": "8yb08gLlcdhi",
        "outputId": "56675d92-7d48-4e94-c2b9-e54a46ad9181"
      },
      "execution_count": null,
      "outputs": [
        {
          "output_type": "stream",
          "name": "stdout",
          "text": [
            "Mounted at /content/drive\n",
            "  EngineVersion       AppVersion  AvSigVersion  RtpStateBitfield  \\\n",
            "0   1.1.15100.1  4.18.1807.18075  1.273.1735.0               7.0   \n",
            "1   1.1.14600.4     4.13.17134.1    1.263.48.0               7.0   \n",
            "2   1.1.15100.1  4.18.1807.18075  1.273.1341.0               7.0   \n",
            "3   1.1.15100.1  4.18.1807.18075  1.273.1527.0               7.0   \n",
            "4   1.1.15100.1  4.18.1807.18075  1.273.1379.0               7.0   \n",
            "\n",
            "   IsSxsPassiveMode  DefaultBrowsersIdentifier  AVProductStatesIdentifier  \\\n",
            "0                 0                        0.0                    53447.0   \n",
            "1                 0                        0.0                    53447.0   \n",
            "2                 0                        0.0                    53447.0   \n",
            "3                 0                        0.0                    53447.0   \n",
            "4                 0                        0.0                    53447.0   \n",
            "\n",
            "   AVProductsInstalled  AVProductsEnabled  CountryIdentifier  ...  \\\n",
            "0                  1.0                1.0                 29  ...   \n",
            "1                  1.0                1.0                 93  ...   \n",
            "2                  1.0                1.0                 86  ...   \n",
            "3                  1.0                1.0                 88  ...   \n",
            "4                  1.0                1.0                 18  ...   \n",
            "\n",
            "   Census_FlightRing  Census_FirmwareManufacturerIdentifier  \\\n",
            "0             Retail                                  628.0   \n",
            "1            NOT_SET                                  628.0   \n",
            "2             Retail                                  142.0   \n",
            "3             Retail                                  355.0   \n",
            "4             Retail                                  355.0   \n",
            "\n",
            "   Census_FirmwareVersionIdentifier  Census_IsSecureBootEnabled  \\\n",
            "0                           36144.0                           0   \n",
            "1                           57858.0                           0   \n",
            "2                           52682.0                           0   \n",
            "3                           20050.0                           0   \n",
            "4                           19844.0                           0   \n",
            "\n",
            "   Census_IsTouchEnabled  Census_IsPenCapable  \\\n",
            "0                      0                    0   \n",
            "1                      0                    0   \n",
            "2                      0                    0   \n",
            "3                      0                    0   \n",
            "4                      0                    0   \n",
            "\n",
            "  Census_IsAlwaysOnAlwaysConnectedCapable Wdft_IsGamer Wdft_RegionIdentifier  \\\n",
            "0                                     0.0          0.0                  10.0   \n",
            "1                                     0.0          0.0                   8.0   \n",
            "2                                     0.0          0.0                   3.0   \n",
            "3                                     0.0          0.0                   3.0   \n",
            "4                                     0.0          0.0                   1.0   \n",
            "\n",
            "   HasDetections  \n",
            "0              0  \n",
            "1              0  \n",
            "2              0  \n",
            "3              1  \n",
            "4              1  \n",
            "\n",
            "[5 rows x 62 columns]\n",
            "(2578105, 62)\n"
          ]
        }
      ]
    },
    {
      "cell_type": "code",
      "source": [
        "df.info()"
      ],
      "metadata": {
        "id": "S0w5t-occjBY",
        "colab": {
          "base_uri": "https://localhost:8080/"
        },
        "outputId": "597da2c9-a9b7-4c51-d27d-88ed08a3eb85"
      },
      "execution_count": null,
      "outputs": [
        {
          "output_type": "stream",
          "name": "stdout",
          "text": [
            "<class 'pandas.core.frame.DataFrame'>\n",
            "RangeIndex: 2578105 entries, 0 to 2578104\n",
            "Data columns (total 62 columns):\n",
            " #   Column                                             Dtype  \n",
            "---  ------                                             -----  \n",
            " 0   EngineVersion                                      object \n",
            " 1   AppVersion                                         object \n",
            " 2   AvSigVersion                                       object \n",
            " 3   RtpStateBitfield                                   float64\n",
            " 4   IsSxsPassiveMode                                   int64  \n",
            " 5   DefaultBrowsersIdentifier                          float64\n",
            " 6   AVProductStatesIdentifier                          float64\n",
            " 7   AVProductsInstalled                                float64\n",
            " 8   AVProductsEnabled                                  float64\n",
            " 9   CountryIdentifier                                  int64  \n",
            " 10  CityIdentifier                                     float64\n",
            " 11  OrganizationIdentifier                             float64\n",
            " 12  GeoNameIdentifier                                  float64\n",
            " 13  LocaleEnglishNameIdentifier                        int64  \n",
            " 14  OsBuild                                            int64  \n",
            " 15  OsSuite                                            int64  \n",
            " 16  OsPlatformSubRelease                               object \n",
            " 17  OsBuildLab                                         object \n",
            " 18  SkuEdition                                         object \n",
            " 19  IsProtected                                        float64\n",
            " 20  IeVerIdentifier                                    float64\n",
            " 21  SmartScreen                                        object \n",
            " 22  Firewall                                           float64\n",
            " 23  Census_MDC2FormFactor                              object \n",
            " 24  Census_OEMNameIdentifier                           float64\n",
            " 25  Census_OEMModelIdentifier                          float64\n",
            " 26  Census_ProcessorCoreCount                          float64\n",
            " 27  Census_ProcessorManufacturerIdentifier             float64\n",
            " 28  Census_ProcessorModelIdentifier                    float64\n",
            " 29  Census_PrimaryDiskTotalCapacity                    float64\n",
            " 30  Census_PrimaryDiskTypeName                         object \n",
            " 31  Census_SystemVolumeTotalCapacity                   float64\n",
            " 32  Census_HasOpticalDiskDrive                         int64  \n",
            " 33  Census_TotalPhysicalRAM                            float64\n",
            " 34  Census_ChassisTypeName                             object \n",
            " 35  Census_InternalPrimaryDiagonalDisplaySizeInInches  float64\n",
            " 36  Census_InternalPrimaryDisplayResolutionHorizontal  float64\n",
            " 37  Census_InternalPrimaryDisplayResolutionVertical    float64\n",
            " 38  Census_PowerPlatformRoleName                       object \n",
            " 39  Census_InternalBatteryType                         object \n",
            " 40  Census_InternalBatteryNumberOfCharges              float64\n",
            " 41  Census_OSVersion                                   object \n",
            " 42  Census_OSArchitecture                              object \n",
            " 43  Census_OSBranch                                    object \n",
            " 44  Census_OSBuildNumber                               int64  \n",
            " 45  Census_OSBuildRevision                             int64  \n",
            " 46  Census_OSEdition                                   object \n",
            " 47  Census_OSInstallTypeName                           object \n",
            " 48  Census_OSUILocaleIdentifier                        int64  \n",
            " 49  Census_OSWUAutoUpdateOptionsName                   object \n",
            " 50  Census_GenuineStateName                            object \n",
            " 51  Census_ActivationChannel                           object \n",
            " 52  Census_FlightRing                                  object \n",
            " 53  Census_FirmwareManufacturerIdentifier              float64\n",
            " 54  Census_FirmwareVersionIdentifier                   float64\n",
            " 55  Census_IsSecureBootEnabled                         int64  \n",
            " 56  Census_IsTouchEnabled                              int64  \n",
            " 57  Census_IsPenCapable                                int64  \n",
            " 58  Census_IsAlwaysOnAlwaysConnectedCapable            float64\n",
            " 59  Wdft_IsGamer                                       float64\n",
            " 60  Wdft_RegionIdentifier                              float64\n",
            " 61  HasDetections                                      int64  \n",
            "dtypes: float64(28), int64(13), object(21)\n",
            "memory usage: 1.2+ GB\n"
          ]
        }
      ]
    },
    {
      "cell_type": "code",
      "source": [
        "# Select only non-numeric columns from the DataFrame\n",
        "non_numeric_cols = df.select_dtypes(exclude=['number'])\n",
        "\n",
        "# Calculate the cardinality (number of unique values) for each non-numeric column\n",
        "cardinality = non_numeric_cols.nunique()\n",
        "\n",
        "#  display the results in a DataFrame format\n",
        "cardinality_df = cardinality.reset_index()\n",
        "cardinality_df.columns = ['Column', 'Cardinality']\n",
        "\n",
        "print(cardinality_df)"
      ],
      "metadata": {
        "id": "_3GNOAcrckm7",
        "colab": {
          "base_uri": "https://localhost:8080/"
        },
        "outputId": "e1b2d490-6256-4e82-ec99-2c91ac695147"
      },
      "execution_count": null,
      "outputs": [
        {
          "output_type": "stream",
          "name": "stdout",
          "text": [
            "                              Column  Cardinality\n",
            "0                      EngineVersion           51\n",
            "1                         AppVersion           84\n",
            "2                       AvSigVersion         1182\n",
            "3               OsPlatformSubRelease            9\n",
            "4                         OsBuildLab          241\n",
            "5                         SkuEdition            7\n",
            "6                        SmartScreen           10\n",
            "7              Census_MDC2FormFactor           11\n",
            "8         Census_PrimaryDiskTypeName            4\n",
            "9             Census_ChassisTypeName           34\n",
            "10      Census_PowerPlatformRoleName            9\n",
            "11        Census_InternalBatteryType           11\n",
            "12                  Census_OSVersion          236\n",
            "13             Census_OSArchitecture            3\n",
            "14                   Census_OSBranch           15\n",
            "15                  Census_OSEdition           19\n",
            "16          Census_OSInstallTypeName            9\n",
            "17  Census_OSWUAutoUpdateOptionsName            5\n",
            "18           Census_GenuineStateName            4\n",
            "19          Census_ActivationChannel            5\n",
            "20                 Census_FlightRing            8\n"
          ]
        }
      ]
    },
    {
      "cell_type": "markdown",
      "source": [
        "# Mount Google Drive & Set Paths\n",
        "\n"
      ],
      "metadata": {
        "id": "92BQI_ubcLpp"
      }
    },
    {
      "cell_type": "code",
      "source": [
        "\n",
        "\n",
        "# Mount Google Drive\n",
        "drive.mount('/content/drive')\n",
        "\n",
        "# Define file paths\n",
        "base_path = \"/content/drive/My Drive/\"\n",
        "paths = {\n",
        "    \"frequency\": os.path.join(base_path, \"frequency-encoding\"),\n",
        "    \"target\": os.path.join(base_path, \"target-encoding\"),\n",
        "    \"hybrid\": os.path.join(base_path, \"hybrid-label-target-encoding\"),\n",
        "    \"label\": os.path.join(base_path, \"label-encoding\"),\n",
        "    \"label_freq\": os.path.join(base_path, \"label-frequency-encoding\"),\n",
        "}\n",
        "\n",
        "# Ensure directories exist\n",
        "for path in paths.values():\n",
        "    os.makedirs(path, exist_ok=True)\n",
        "\n",
        "print(\"Google Drive mounted and paths created.\")\n"
      ],
      "metadata": {
        "id": "LHNO5Dm1cCiV",
        "colab": {
          "base_uri": "https://localhost:8080/"
        },
        "outputId": "1c5bb7fd-7c56-4c9c-aeb7-6796c342c417"
      },
      "execution_count": null,
      "outputs": [
        {
          "output_type": "stream",
          "name": "stdout",
          "text": [
            "Drive already mounted at /content/drive; to attempt to forcibly remount, call drive.mount(\"/content/drive\", force_remount=True).\n",
            "Google Drive mounted and paths created.\n"
          ]
        }
      ]
    },
    {
      "cell_type": "markdown",
      "source": [
        "# Load Dataset\n",
        "\n"
      ],
      "metadata": {
        "id": "-n3qzAJRcSd7"
      }
    },
    {
      "cell_type": "code",
      "source": [
        "\n",
        "# Identify categorical columns\n",
        "categorical_cols = df.select_dtypes(include=['object', 'category']).columns.tolist()\n",
        "target = \"HasDetections\"\n",
        "\n",
        "print(f\"Dataset loaded with {df.shape[0]} rows and {df.shape[1]} columns.\")\n",
        "print(f\" Identified {len(categorical_cols)} categorical columns.\")\n"
      ],
      "metadata": {
        "id": "_dL2jwVWcVnn",
        "colab": {
          "base_uri": "https://localhost:8080/"
        },
        "outputId": "1ef71ff3-dc0a-4c36-a43e-5a7480202613"
      },
      "execution_count": null,
      "outputs": [
        {
          "output_type": "stream",
          "name": "stdout",
          "text": [
            "Dataset loaded with 2578105 rows and 62 columns.\n",
            " Identified 21 categorical columns.\n"
          ]
        }
      ]
    },
    {
      "cell_type": "markdown",
      "source": [
        "# Define Encoding Functions\n",
        "\n"
      ],
      "metadata": {
        "id": "BjeVTXvucncl"
      }
    },
    {
      "cell_type": "code",
      "source": [
        "\n",
        "\n",
        "def frequency_encoding(df, col):\n",
        "    \"\"\"Applies Frequency Encoding to a column and returns the mapping.\"\"\"\n",
        "    freq_map = df[col].value_counts(normalize=True).to_dict()\n",
        "    df[col] = df[col].map(freq_map)\n",
        "    return freq_map\n",
        "\n",
        "def target_encoding(df, col, target):\n",
        "    \"\"\"Applies Target Encoding to a column and returns the mapping.\"\"\"\n",
        "    target_map = df.groupby(col)[target].mean().to_dict()\n",
        "    df[col] = df[col].map(target_map)\n",
        "    return target_map\n",
        "\n",
        "print(\"Encoding functions defined.\")\n"
      ],
      "metadata": {
        "id": "aVRoduzGcpsa",
        "colab": {
          "base_uri": "https://localhost:8080/"
        },
        "outputId": "dc060ac6-98a6-4abe-d1c3-0edb8b9f9439"
      },
      "execution_count": null,
      "outputs": [
        {
          "output_type": "stream",
          "name": "stdout",
          "text": [
            "Encoding functions defined.\n"
          ]
        }
      ]
    },
    {
      "cell_type": "markdown",
      "source": [
        "# Initialize Encoding Storage & Dataset Copies\n"
      ],
      "metadata": {
        "id": "jo8dELekcwBp"
      }
    },
    {
      "cell_type": "code",
      "source": [
        "\n",
        "\n",
        "# Store mappings\n",
        "freq_mappings = {}\n",
        "target_mappings = {}\n",
        "label_mappings = {}\n",
        "\n",
        "# Create copies of dataset for different encodings\n",
        "df_freq = df.copy()\n",
        "df_target = df.copy()\n",
        "df_hybrid = df.copy()\n",
        "df_label = df.copy()\n",
        "df_label_freq = df.copy()\n",
        "\n",
        "print(\"Encoding storage initialized and dataset copies created.\")\n"
      ],
      "metadata": {
        "id": "zTGi2Uo1ctTs",
        "colab": {
          "base_uri": "https://localhost:8080/"
        },
        "outputId": "6843c244-7339-4877-f926-da5cce60d08d"
      },
      "execution_count": null,
      "outputs": [
        {
          "output_type": "stream",
          "name": "stdout",
          "text": [
            "Encoding storage initialized and dataset copies created.\n"
          ]
        }
      ]
    },
    {
      "cell_type": "markdown",
      "source": [
        "# Apply Label Encoding First (Ensures Consistency)\n",
        "\n"
      ],
      "metadata": {
        "id": "g3wWrBktc0uc"
      }
    },
    {
      "cell_type": "code",
      "source": [
        "le = LabelEncoder()\n",
        "\n",
        "for col in categorical_cols:\n",
        "    # Apply Label Encoding to all datasets\n",
        "    df_label[col] = le.fit_transform(df[col])\n",
        "    df_hybrid[col] = le.transform(df[col])\n",
        "    df_label_freq[col] = le.transform(df[col])\n",
        "\n",
        "    # Store Label Encoding mappings\n",
        "    label_mappings[col] = {label: idx for idx, label in enumerate(le.classes_)}\n",
        "\n",
        "print(\"Label Encoding applied consistently across all datasets.\")\n"
      ],
      "metadata": {
        "id": "h2H4Ms91c43U",
        "colab": {
          "base_uri": "https://localhost:8080/"
        },
        "outputId": "62f10521-dc94-4405-bf30-081be392f2b1"
      },
      "execution_count": null,
      "outputs": [
        {
          "output_type": "stream",
          "name": "stdout",
          "text": [
            "Label Encoding applied consistently across all datasets.\n"
          ]
        }
      ]
    },
    {
      "cell_type": "markdown",
      "source": [
        "# Apply Frequency & Target Encoding\n",
        "\n"
      ],
      "metadata": {
        "id": "bNCIjKmZc7Wa"
      }
    },
    {
      "cell_type": "code",
      "source": [
        "for col in categorical_cols:\n",
        "    # Apply Frequency Encoding\n",
        "    freq_mappings[col] = frequency_encoding(df_freq, col)\n",
        "    frequency_encoding(df_label_freq, col)  # Apply frequency encoding to Label-Frequency dataset\n",
        "\n",
        "    # Apply Target Encoding\n",
        "    target_mappings[col] = target_encoding(df_target, col, target)\n",
        "\n",
        "print(\"Frequency and Target Encoding applied.\")\n"
      ],
      "metadata": {
        "id": "nXYNsgh8c68j",
        "colab": {
          "base_uri": "https://localhost:8080/"
        },
        "outputId": "d1897da1-e3f0-4cbf-ad14-21899b260563"
      },
      "execution_count": null,
      "outputs": [
        {
          "output_type": "stream",
          "name": "stdout",
          "text": [
            "Frequency and Target Encoding applied.\n"
          ]
        }
      ]
    },
    {
      "cell_type": "markdown",
      "source": [
        "# Save Mappings (Same Label Mappings in All Folders)\n",
        "\n"
      ],
      "metadata": {
        "id": "b_jAEpQwdFHp"
      }
    },
    {
      "cell_type": "code",
      "source": [
        "for encoding_type in paths:\n",
        "    with open(os.path.join(paths[encoding_type], \"label_mappings.json\"), \"w\") as f:\n",
        "        json.dump(label_mappings, f)\n",
        "\n",
        "with open(os.path.join(paths[\"frequency\"], \"freq_mappings.json\"), \"w\") as f:\n",
        "    json.dump(freq_mappings, f)\n",
        "\n",
        "with open(os.path.join(paths[\"target\"], \"target_mappings.pkl\"), \"wb\") as f:\n",
        "    pickle.dump(target_mappings, f)\n",
        "\n",
        "print(\" Encoding mappings saved in respective folders.\")\n"
      ],
      "metadata": {
        "id": "c1ChJoc_dDbH",
        "colab": {
          "base_uri": "https://localhost:8080/"
        },
        "outputId": "980f5747-9f18-4ab5-bea9-b3c08cbaf568"
      },
      "execution_count": null,
      "outputs": [
        {
          "output_type": "stream",
          "name": "stdout",
          "text": [
            " Encoding mappings saved in respective folders.\n"
          ]
        }
      ]
    },
    {
      "cell_type": "markdown",
      "source": [
        "#Split Data into Train, Validation, Test Sets\n",
        "\n"
      ],
      "metadata": {
        "id": "2kiefIntdKJP"
      }
    },
    {
      "cell_type": "code",
      "source": [
        "def split_data(df):\n",
        "    \"\"\"Splits data into Train, Validation, and Test sets.\"\"\"\n",
        "    train, temp = train_test_split(df, test_size=0.2, random_state=42, stratify=df[target])\n",
        "    val, test = train_test_split(temp, test_size=0.5, random_state=42, stratify=temp[target])\n",
        "    return train, val, test\n",
        "\n",
        "# Apply splitting to each encoded dataset\n",
        "datasets = {\n",
        "    \"frequency\": split_data(df_freq),\n",
        "    \"target\": split_data(df_target),\n",
        "    \"hybrid\": split_data(df_hybrid),\n",
        "    \"label\": split_data(df_label),\n",
        "    \"label_freq\": split_data(df_label_freq),\n",
        "}\n",
        "\n",
        "print(\"Data successfully split into Train, Validation, and Test sets.\")\n"
      ],
      "metadata": {
        "id": "VCq-sW47dL3G",
        "colab": {
          "base_uri": "https://localhost:8080/"
        },
        "outputId": "9b026e6d-6cae-49f3-831a-13d5541f1cd7"
      },
      "execution_count": null,
      "outputs": [
        {
          "output_type": "stream",
          "name": "stdout",
          "text": [
            "Data successfully split into Train, Validation, and Test sets.\n"
          ]
        }
      ]
    },
    {
      "cell_type": "markdown",
      "source": [
        "# Save Split Datasets in Respective Folders\n",
        "\n"
      ],
      "metadata": {
        "id": "HQi88mj4dVVo"
      }
    },
    {
      "cell_type": "code",
      "source": [
        "for encoding_type, (train, val, test) in datasets.items():\n",
        "    train.to_csv(os.path.join(paths[encoding_type], f\"train_{encoding_type}.csv\"), index=False)\n",
        "    val.to_csv(os.path.join(paths[encoding_type], f\"val_{encoding_type}.csv\"), index=False)\n",
        "    test.to_csv(os.path.join(paths[encoding_type], f\"test_{encoding_type}.csv\"), index=False)\n",
        "\n",
        "print(\" All encoded datasets saved in respective folders.\")\n"
      ],
      "metadata": {
        "id": "tAnZWfDkdXcy",
        "colab": {
          "base_uri": "https://localhost:8080/"
        },
        "outputId": "dd904b30-9956-48cc-fef1-21c7f12015dd"
      },
      "execution_count": null,
      "outputs": [
        {
          "output_type": "stream",
          "name": "stdout",
          "text": [
            " All encoded datasets saved in respective folders.\n"
          ]
        }
      ]
    }
  ]
}