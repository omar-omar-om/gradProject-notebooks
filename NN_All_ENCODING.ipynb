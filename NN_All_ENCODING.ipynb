{
  "nbformat": 4,
  "nbformat_minor": 0,
  "metadata": {
    "colab": {
      "provenance": [],
      "machine_shape": "hm",
      "gpuType": "T4",
      "authorship_tag": "ABX9TyP2rFeGRC6J0Z0IGijnwbO1",
      "include_colab_link": true
    },
    "kernelspec": {
      "name": "python3",
      "display_name": "Python 3"
    },
    "language_info": {
      "name": "python"
    },
    "accelerator": "GPU"
  },
  "cells": [
    {
      "cell_type": "markdown",
      "metadata": {
        "id": "view-in-github",
        "colab_type": "text"
      },
      "source": [
        "<a href=\"https://colab.research.google.com/github/omar-omar-om/gradProject-notebooks/blob/main/NN_All_ENCODING.ipynb\" target=\"_parent\"><img src=\"https://colab.research.google.com/assets/colab-badge.svg\" alt=\"Open In Colab\"/></a>"
      ]
    },
    {
      "cell_type": "markdown",
      "source": [
        "# Install & Import Required Libraries\n",
        "\n"
      ],
      "metadata": {
        "id": "NBss-XUm7UeL"
      }
    },
    {
      "cell_type": "code",
      "execution_count": null,
      "metadata": {
        "colab": {
          "base_uri": "https://localhost:8080/"
        },
        "id": "Wor9vs-w69tl",
        "outputId": "19bfa15a-37b1-4411-cbe6-6463ce93b2c1"
      },
      "outputs": [
        {
          "output_type": "stream",
          "name": "stdout",
          "text": [
            "Requirement already satisfied: torch in /usr/local/lib/python3.11/dist-packages (2.6.0+cu124)\n",
            "Requirement already satisfied: torchvision in /usr/local/lib/python3.11/dist-packages (0.21.0+cu124)\n",
            "Requirement already satisfied: torchaudio in /usr/local/lib/python3.11/dist-packages (2.6.0+cu124)\n",
            "Requirement already satisfied: scikit-learn in /usr/local/lib/python3.11/dist-packages (1.6.1)\n",
            "Requirement already satisfied: filelock in /usr/local/lib/python3.11/dist-packages (from torch) (3.18.0)\n",
            "Requirement already satisfied: typing-extensions>=4.10.0 in /usr/local/lib/python3.11/dist-packages (from torch) (4.13.1)\n",
            "Requirement already satisfied: networkx in /usr/local/lib/python3.11/dist-packages (from torch) (3.4.2)\n",
            "Requirement already satisfied: jinja2 in /usr/local/lib/python3.11/dist-packages (from torch) (3.1.6)\n",
            "Requirement already satisfied: fsspec in /usr/local/lib/python3.11/dist-packages (from torch) (2025.3.2)\n",
            "Collecting nvidia-cuda-nvrtc-cu12==12.4.127 (from torch)\n",
            "  Downloading nvidia_cuda_nvrtc_cu12-12.4.127-py3-none-manylinux2014_x86_64.whl.metadata (1.5 kB)\n",
            "Collecting nvidia-cuda-runtime-cu12==12.4.127 (from torch)\n",
            "  Downloading nvidia_cuda_runtime_cu12-12.4.127-py3-none-manylinux2014_x86_64.whl.metadata (1.5 kB)\n",
            "Collecting nvidia-cuda-cupti-cu12==12.4.127 (from torch)\n",
            "  Downloading nvidia_cuda_cupti_cu12-12.4.127-py3-none-manylinux2014_x86_64.whl.metadata (1.6 kB)\n",
            "Collecting nvidia-cudnn-cu12==9.1.0.70 (from torch)\n",
            "  Downloading nvidia_cudnn_cu12-9.1.0.70-py3-none-manylinux2014_x86_64.whl.metadata (1.6 kB)\n",
            "Collecting nvidia-cublas-cu12==12.4.5.8 (from torch)\n",
            "  Downloading nvidia_cublas_cu12-12.4.5.8-py3-none-manylinux2014_x86_64.whl.metadata (1.5 kB)\n",
            "Collecting nvidia-cufft-cu12==11.2.1.3 (from torch)\n",
            "  Downloading nvidia_cufft_cu12-11.2.1.3-py3-none-manylinux2014_x86_64.whl.metadata (1.5 kB)\n",
            "Collecting nvidia-curand-cu12==10.3.5.147 (from torch)\n",
            "  Downloading nvidia_curand_cu12-10.3.5.147-py3-none-manylinux2014_x86_64.whl.metadata (1.5 kB)\n",
            "Collecting nvidia-cusolver-cu12==11.6.1.9 (from torch)\n",
            "  Downloading nvidia_cusolver_cu12-11.6.1.9-py3-none-manylinux2014_x86_64.whl.metadata (1.6 kB)\n",
            "Collecting nvidia-cusparse-cu12==12.3.1.170 (from torch)\n",
            "  Downloading nvidia_cusparse_cu12-12.3.1.170-py3-none-manylinux2014_x86_64.whl.metadata (1.6 kB)\n",
            "Requirement already satisfied: nvidia-cusparselt-cu12==0.6.2 in /usr/local/lib/python3.11/dist-packages (from torch) (0.6.2)\n",
            "Requirement already satisfied: nvidia-nccl-cu12==2.21.5 in /usr/local/lib/python3.11/dist-packages (from torch) (2.21.5)\n",
            "Requirement already satisfied: nvidia-nvtx-cu12==12.4.127 in /usr/local/lib/python3.11/dist-packages (from torch) (12.4.127)\n",
            "Collecting nvidia-nvjitlink-cu12==12.4.127 (from torch)\n",
            "  Downloading nvidia_nvjitlink_cu12-12.4.127-py3-none-manylinux2014_x86_64.whl.metadata (1.5 kB)\n",
            "Requirement already satisfied: triton==3.2.0 in /usr/local/lib/python3.11/dist-packages (from torch) (3.2.0)\n",
            "Requirement already satisfied: sympy==1.13.1 in /usr/local/lib/python3.11/dist-packages (from torch) (1.13.1)\n",
            "Requirement already satisfied: mpmath<1.4,>=1.1.0 in /usr/local/lib/python3.11/dist-packages (from sympy==1.13.1->torch) (1.3.0)\n",
            "Requirement already satisfied: numpy in /usr/local/lib/python3.11/dist-packages (from torchvision) (2.0.2)\n",
            "Requirement already satisfied: pillow!=8.3.*,>=5.3.0 in /usr/local/lib/python3.11/dist-packages (from torchvision) (11.1.0)\n",
            "Requirement already satisfied: scipy>=1.6.0 in /usr/local/lib/python3.11/dist-packages (from scikit-learn) (1.14.1)\n",
            "Requirement already satisfied: joblib>=1.2.0 in /usr/local/lib/python3.11/dist-packages (from scikit-learn) (1.4.2)\n",
            "Requirement already satisfied: threadpoolctl>=3.1.0 in /usr/local/lib/python3.11/dist-packages (from scikit-learn) (3.6.0)\n",
            "Requirement already satisfied: MarkupSafe>=2.0 in /usr/local/lib/python3.11/dist-packages (from jinja2->torch) (3.0.2)\n",
            "Downloading nvidia_cublas_cu12-12.4.5.8-py3-none-manylinux2014_x86_64.whl (363.4 MB)\n",
            "\u001b[2K   \u001b[90m━━━━━━━━━━━━━━━━━━━━━━━━━━━━━━━━━━━━━━━━\u001b[0m \u001b[32m363.4/363.4 MB\u001b[0m \u001b[31m3.6 MB/s\u001b[0m eta \u001b[36m0:00:00\u001b[0m\n",
            "\u001b[?25hDownloading nvidia_cuda_cupti_cu12-12.4.127-py3-none-manylinux2014_x86_64.whl (13.8 MB)\n",
            "\u001b[2K   \u001b[90m━━━━━━━━━━━━━━━━━━━━━━━━━━━━━━━━━━━━━━━━\u001b[0m \u001b[32m13.8/13.8 MB\u001b[0m \u001b[31m28.3 MB/s\u001b[0m eta \u001b[36m0:00:00\u001b[0m\n",
            "\u001b[?25hDownloading nvidia_cuda_nvrtc_cu12-12.4.127-py3-none-manylinux2014_x86_64.whl (24.6 MB)\n",
            "\u001b[2K   \u001b[90m━━━━━━━━━━━━━━━━━━━━━━━━━━━━━━━━━━━━━━━━\u001b[0m \u001b[32m24.6/24.6 MB\u001b[0m \u001b[31m45.8 MB/s\u001b[0m eta \u001b[36m0:00:00\u001b[0m\n",
            "\u001b[?25hDownloading nvidia_cuda_runtime_cu12-12.4.127-py3-none-manylinux2014_x86_64.whl (883 kB)\n",
            "\u001b[2K   \u001b[90m━━━━━━━━━━━━━━━━━━━━━━━━━━━━━━━━━━━━━━━━\u001b[0m \u001b[32m883.7/883.7 kB\u001b[0m \u001b[31m42.6 MB/s\u001b[0m eta \u001b[36m0:00:00\u001b[0m\n",
            "\u001b[?25hDownloading nvidia_cudnn_cu12-9.1.0.70-py3-none-manylinux2014_x86_64.whl (664.8 MB)\n",
            "\u001b[2K   \u001b[90m━━━━━━━━━━━━━━━━━━━━━━━━━━━━━━━━━━━━━━━━\u001b[0m \u001b[32m664.8/664.8 MB\u001b[0m \u001b[31m2.6 MB/s\u001b[0m eta \u001b[36m0:00:00\u001b[0m\n",
            "\u001b[?25hDownloading nvidia_cufft_cu12-11.2.1.3-py3-none-manylinux2014_x86_64.whl (211.5 MB)\n",
            "\u001b[2K   \u001b[90m━━━━━━━━━━━━━━━━━━━━━━━━━━━━━━━━━━━━━━━━\u001b[0m \u001b[32m211.5/211.5 MB\u001b[0m \u001b[31m5.7 MB/s\u001b[0m eta \u001b[36m0:00:00\u001b[0m\n",
            "\u001b[?25hDownloading nvidia_curand_cu12-10.3.5.147-py3-none-manylinux2014_x86_64.whl (56.3 MB)\n",
            "\u001b[2K   \u001b[90m━━━━━━━━━━━━━━━━━━━━━━━━━━━━━━━━━━━━━━━━\u001b[0m \u001b[32m56.3/56.3 MB\u001b[0m \u001b[31m12.6 MB/s\u001b[0m eta \u001b[36m0:00:00\u001b[0m\n",
            "\u001b[?25hDownloading nvidia_cusolver_cu12-11.6.1.9-py3-none-manylinux2014_x86_64.whl (127.9 MB)\n",
            "\u001b[2K   \u001b[90m━━━━━━━━━━━━━━━━━━━━━━━━━━━━━━━━━━━━━━━━\u001b[0m \u001b[32m127.9/127.9 MB\u001b[0m \u001b[31m7.3 MB/s\u001b[0m eta \u001b[36m0:00:00\u001b[0m\n",
            "\u001b[?25hDownloading nvidia_cusparse_cu12-12.3.1.170-py3-none-manylinux2014_x86_64.whl (207.5 MB)\n",
            "\u001b[2K   \u001b[90m━━━━━━━━━━━━━━━━━━━━━━━━━━━━━━━━━━━━━━━━\u001b[0m \u001b[32m207.5/207.5 MB\u001b[0m \u001b[31m5.5 MB/s\u001b[0m eta \u001b[36m0:00:00\u001b[0m\n",
            "\u001b[?25hDownloading nvidia_nvjitlink_cu12-12.4.127-py3-none-manylinux2014_x86_64.whl (21.1 MB)\n",
            "\u001b[2K   \u001b[90m━━━━━━━━━━━━━━━━━━━━━━━━━━━━━━━━━━━━━━━━\u001b[0m \u001b[32m21.1/21.1 MB\u001b[0m \u001b[31m54.2 MB/s\u001b[0m eta \u001b[36m0:00:00\u001b[0m\n",
            "\u001b[?25hInstalling collected packages: nvidia-nvjitlink-cu12, nvidia-curand-cu12, nvidia-cufft-cu12, nvidia-cuda-runtime-cu12, nvidia-cuda-nvrtc-cu12, nvidia-cuda-cupti-cu12, nvidia-cublas-cu12, nvidia-cusparse-cu12, nvidia-cudnn-cu12, nvidia-cusolver-cu12\n",
            "  Attempting uninstall: nvidia-nvjitlink-cu12\n",
            "    Found existing installation: nvidia-nvjitlink-cu12 12.5.82\n",
            "    Uninstalling nvidia-nvjitlink-cu12-12.5.82:\n",
            "      Successfully uninstalled nvidia-nvjitlink-cu12-12.5.82\n",
            "  Attempting uninstall: nvidia-curand-cu12\n",
            "    Found existing installation: nvidia-curand-cu12 10.3.6.82\n",
            "    Uninstalling nvidia-curand-cu12-10.3.6.82:\n",
            "      Successfully uninstalled nvidia-curand-cu12-10.3.6.82\n",
            "  Attempting uninstall: nvidia-cufft-cu12\n",
            "    Found existing installation: nvidia-cufft-cu12 11.2.3.61\n",
            "    Uninstalling nvidia-cufft-cu12-11.2.3.61:\n",
            "      Successfully uninstalled nvidia-cufft-cu12-11.2.3.61\n",
            "  Attempting uninstall: nvidia-cuda-runtime-cu12\n",
            "    Found existing installation: nvidia-cuda-runtime-cu12 12.5.82\n",
            "    Uninstalling nvidia-cuda-runtime-cu12-12.5.82:\n",
            "      Successfully uninstalled nvidia-cuda-runtime-cu12-12.5.82\n",
            "  Attempting uninstall: nvidia-cuda-nvrtc-cu12\n",
            "    Found existing installation: nvidia-cuda-nvrtc-cu12 12.5.82\n",
            "    Uninstalling nvidia-cuda-nvrtc-cu12-12.5.82:\n",
            "      Successfully uninstalled nvidia-cuda-nvrtc-cu12-12.5.82\n",
            "  Attempting uninstall: nvidia-cuda-cupti-cu12\n",
            "    Found existing installation: nvidia-cuda-cupti-cu12 12.5.82\n",
            "    Uninstalling nvidia-cuda-cupti-cu12-12.5.82:\n",
            "      Successfully uninstalled nvidia-cuda-cupti-cu12-12.5.82\n",
            "  Attempting uninstall: nvidia-cublas-cu12\n",
            "    Found existing installation: nvidia-cublas-cu12 12.5.3.2\n",
            "    Uninstalling nvidia-cublas-cu12-12.5.3.2:\n",
            "      Successfully uninstalled nvidia-cublas-cu12-12.5.3.2\n",
            "  Attempting uninstall: nvidia-cusparse-cu12\n",
            "    Found existing installation: nvidia-cusparse-cu12 12.5.1.3\n",
            "    Uninstalling nvidia-cusparse-cu12-12.5.1.3:\n",
            "      Successfully uninstalled nvidia-cusparse-cu12-12.5.1.3\n",
            "  Attempting uninstall: nvidia-cudnn-cu12\n",
            "    Found existing installation: nvidia-cudnn-cu12 9.3.0.75\n",
            "    Uninstalling nvidia-cudnn-cu12-9.3.0.75:\n",
            "      Successfully uninstalled nvidia-cudnn-cu12-9.3.0.75\n",
            "  Attempting uninstall: nvidia-cusolver-cu12\n",
            "    Found existing installation: nvidia-cusolver-cu12 11.6.3.83\n",
            "    Uninstalling nvidia-cusolver-cu12-11.6.3.83:\n",
            "      Successfully uninstalled nvidia-cusolver-cu12-11.6.3.83\n",
            "Successfully installed nvidia-cublas-cu12-12.4.5.8 nvidia-cuda-cupti-cu12-12.4.127 nvidia-cuda-nvrtc-cu12-12.4.127 nvidia-cuda-runtime-cu12-12.4.127 nvidia-cudnn-cu12-9.1.0.70 nvidia-cufft-cu12-11.2.1.3 nvidia-curand-cu12-10.3.5.147 nvidia-cusolver-cu12-11.6.1.9 nvidia-cusparse-cu12-12.3.1.170 nvidia-nvjitlink-cu12-12.4.127\n",
            "Requirement already satisfied: torch in /usr/local/lib/python3.11/dist-packages (2.6.0+cu124)\n",
            "Requirement already satisfied: torchvision in /usr/local/lib/python3.11/dist-packages (0.21.0+cu124)\n",
            "Requirement already satisfied: torchaudio in /usr/local/lib/python3.11/dist-packages (2.6.0+cu124)\n",
            "Requirement already satisfied: filelock in /usr/local/lib/python3.11/dist-packages (from torch) (3.18.0)\n",
            "Requirement already satisfied: typing-extensions>=4.10.0 in /usr/local/lib/python3.11/dist-packages (from torch) (4.13.1)\n",
            "Requirement already satisfied: networkx in /usr/local/lib/python3.11/dist-packages (from torch) (3.4.2)\n",
            "Requirement already satisfied: jinja2 in /usr/local/lib/python3.11/dist-packages (from torch) (3.1.6)\n",
            "Requirement already satisfied: fsspec in /usr/local/lib/python3.11/dist-packages (from torch) (2025.3.2)\n",
            "Requirement already satisfied: nvidia-cuda-nvrtc-cu12==12.4.127 in /usr/local/lib/python3.11/dist-packages (from torch) (12.4.127)\n",
            "Requirement already satisfied: nvidia-cuda-runtime-cu12==12.4.127 in /usr/local/lib/python3.11/dist-packages (from torch) (12.4.127)\n",
            "Requirement already satisfied: nvidia-cuda-cupti-cu12==12.4.127 in /usr/local/lib/python3.11/dist-packages (from torch) (12.4.127)\n",
            "Requirement already satisfied: nvidia-cudnn-cu12==9.1.0.70 in /usr/local/lib/python3.11/dist-packages (from torch) (9.1.0.70)\n",
            "Requirement already satisfied: nvidia-cublas-cu12==12.4.5.8 in /usr/local/lib/python3.11/dist-packages (from torch) (12.4.5.8)\n",
            "Requirement already satisfied: nvidia-cufft-cu12==11.2.1.3 in /usr/local/lib/python3.11/dist-packages (from torch) (11.2.1.3)\n",
            "Requirement already satisfied: nvidia-curand-cu12==10.3.5.147 in /usr/local/lib/python3.11/dist-packages (from torch) (10.3.5.147)\n",
            "Requirement already satisfied: nvidia-cusolver-cu12==11.6.1.9 in /usr/local/lib/python3.11/dist-packages (from torch) (11.6.1.9)\n",
            "Requirement already satisfied: nvidia-cusparse-cu12==12.3.1.170 in /usr/local/lib/python3.11/dist-packages (from torch) (12.3.1.170)\n",
            "Requirement already satisfied: nvidia-cusparselt-cu12==0.6.2 in /usr/local/lib/python3.11/dist-packages (from torch) (0.6.2)\n",
            "Requirement already satisfied: nvidia-nccl-cu12==2.21.5 in /usr/local/lib/python3.11/dist-packages (from torch) (2.21.5)\n",
            "Requirement already satisfied: nvidia-nvtx-cu12==12.4.127 in /usr/local/lib/python3.11/dist-packages (from torch) (12.4.127)\n",
            "Requirement already satisfied: nvidia-nvjitlink-cu12==12.4.127 in /usr/local/lib/python3.11/dist-packages (from torch) (12.4.127)\n",
            "Requirement already satisfied: triton==3.2.0 in /usr/local/lib/python3.11/dist-packages (from torch) (3.2.0)\n",
            "Requirement already satisfied: sympy==1.13.1 in /usr/local/lib/python3.11/dist-packages (from torch) (1.13.1)\n",
            "Requirement already satisfied: mpmath<1.4,>=1.1.0 in /usr/local/lib/python3.11/dist-packages (from sympy==1.13.1->torch) (1.3.0)\n",
            "Requirement already satisfied: numpy in /usr/local/lib/python3.11/dist-packages (from torchvision) (2.0.2)\n",
            "Requirement already satisfied: pillow!=8.3.*,>=5.3.0 in /usr/local/lib/python3.11/dist-packages (from torchvision) (11.1.0)\n",
            "Requirement already satisfied: MarkupSafe>=2.0 in /usr/local/lib/python3.11/dist-packages (from jinja2->torch) (3.0.2)\n"
          ]
        }
      ],
      "source": [
        "!pip install torch torchvision torchaudio scikit-learn\n",
        "!pip install torch torchvision torchaudio\n",
        "\n",
        "import os\n",
        "import time\n",
        "import pickle\n",
        "import torch\n",
        "import torch.nn as nn\n",
        "import torch.optim as optim\n",
        "import pandas as pd\n",
        "import numpy as np\n",
        "from sklearn.model_selection import train_test_split, StratifiedKFold\n",
        "from sklearn.metrics import roc_auc_score\n",
        "from sklearn.preprocessing import StandardScaler\n",
        "\n"
      ]
    },
    {
      "cell_type": "markdown",
      "source": [
        "# Mount Google Drive"
      ],
      "metadata": {
        "id": "Lu1NbjEQ-FAB"
      }
    },
    {
      "cell_type": "code",
      "source": [
        "from google.colab import drive\n",
        "drive.mount('/content/drive')\n"
      ],
      "metadata": {
        "colab": {
          "base_uri": "https://localhost:8080/"
        },
        "id": "KzUraGLz-GFX",
        "outputId": "a209c73a-e521-4644-af29-75494a5d8c7e"
      },
      "execution_count": null,
      "outputs": [
        {
          "output_type": "stream",
          "name": "stdout",
          "text": [
            "Mounted at /content/drive\n"
          ]
        }
      ]
    },
    {
      "cell_type": "markdown",
      "source": [
        "# Define File Paths for All Encoding Types"
      ],
      "metadata": {
        "id": "WTTisGco-Hwa"
      }
    },
    {
      "cell_type": "code",
      "source": [
        "# Define dataset paths manually for each encoding type\n",
        "encoding_paths = {\n",
        "    \"Label\": {\n",
        "        \"train\": \"/content/drive/My Drive/label-encoding/train_label.csv\",\n",
        "        \"val\": \"/content/drive/My Drive/label-encoding/val_label.csv\",\n",
        "        \"test\": \"/content/drive/My Drive/label-encoding/test_label.csv\",\n",
        "    },\n",
        "    \"Frequency\": {\n",
        "        \"train\": \"/content/drive/My Drive/frequency-encoding/train_frequency.csv\",\n",
        "        \"val\": \"/content/drive/My Drive/frequency-encoding/val_frequency.csv\",\n",
        "        \"test\": \"/content/drive/My Drive/frequency-encoding/test_frequency.csv\",\n",
        "    },\n",
        "    \"Target\": {\n",
        "        \"train\": \"/content/drive/My Drive/target-encoding/train_target.csv\",\n",
        "        \"val\": \"/content/drive/My Drive/target-encoding/val_target.csv\",\n",
        "        \"test\": \"/content/drive/My Drive/target-encoding/test_target.csv\",\n",
        "    },\n",
        "    \"Hybrid\": {\n",
        "        \"train\": \"/content/drive/My Drive/hybrid-label-target-encoding/train_hybrid.csv\",\n",
        "        \"val\": \"/content/drive/My Drive/hybrid-label-target-encoding/val_hybrid.csv\",\n",
        "        \"test\": \"/content/drive/My Drive/hybrid-label-target-encoding/test_hybrid.csv\",\n",
        "    },\n",
        "    \"Label-Frequency\": {\n",
        "        \"train\": \"/content/drive/My Drive/label-frequency-encoding/train_label_freq.csv\",\n",
        "        \"val\": \"/content/drive/My Drive/label-frequency-encoding/val_label_freq.csv\",\n",
        "        \"test\": \"/content/drive/My Drive/label-frequency-encoding/test_label_freq.csv\",\n",
        "    }\n",
        "}\n",
        "\n",
        "# Target column\n",
        "target = \"HasDetections\"\n"
      ],
      "metadata": {
        "id": "-Qv0_r-N-LWl"
      },
      "execution_count": null,
      "outputs": []
    },
    {
      "cell_type": "markdown",
      "source": [
        "# Define the Neural Network (MLP - Multi-Layer Perceptron)"
      ],
      "metadata": {
        "id": "fNtKiUjx-1Gy"
      }
    },
    {
      "cell_type": "code",
      "source": [
        "class NeuralNet(nn.Module):\n",
        "    def __init__(self, input_size, hidden_size, activation_fn):\n",
        "        super(NeuralNet, self).__init__()\n",
        "        self.layer1 = nn.Linear(input_size, hidden_size)\n",
        "        self.activation = nn.ReLU() if activation_fn == \"relu\" else nn.Tanh()\n",
        "        self.layer2 = nn.Linear(hidden_size, 1)  # Binary classification\n",
        "        self.sigmoid = nn.Sigmoid()\n",
        "\n",
        "    def forward(self, x):\n",
        "        x = self.activation(self.layer1(x))\n",
        "        x = self.sigmoid(self.layer2(x))\n",
        "        return x\n"
      ],
      "metadata": {
        "id": "92oHl22i-2rn"
      },
      "execution_count": null,
      "outputs": []
    },
    {
      "cell_type": "markdown",
      "source": [
        "# Define Function to Train Neural Network"
      ],
      "metadata": {
        "id": "dmsjT3HB-3_l"
      }
    },
    {
      "cell_type": "code",
      "source": [
        "def train_neural_network_cv(X_train, y_train, input_size):\n",
        "    param_grid = {\n",
        "        \"hidden_size\": [32, 64, 128],      # 3 values\n",
        "        \"learning_rate\": [0.01, 0.001],    # 2 values\n",
        "        \"batch_size\": [32, 64, 128],       # 3 values\n",
        "        \"optimizer\": [\"adam\", \"sgd\"],      # 2 values\n",
        "        \"activation\": [\"relu\", \"tanh\"],    # 2 values\n",
        "    }\n",
        "\n",
        "    best_auc = 0\n",
        "    best_model = None\n",
        "    best_params = None\n",
        "    start_grid_time = time.time()\n",
        "\n",
        "    skf = StratifiedKFold(n_splits=3, shuffle=True, random_state=42)\n",
        "\n",
        "    for hidden_size in param_grid[\"hidden_size\"]:\n",
        "        for lr in param_grid[\"learning_rate\"]:\n",
        "            for batch_size in param_grid[\"batch_size\"]:\n",
        "                for optimizer_name in param_grid[\"optimizer\"]:\n",
        "                    for activation_name in param_grid[\"activation\"]:\n",
        "                        fold_auc_scores = []\n",
        "\n",
        "                        for train_index, val_index in skf.split(X_train, y_train):\n",
        "                            X_train_fold, X_val_fold = X_train[train_index], X_train[val_index]\n",
        "                            y_train_fold, y_val_fold = y_train.iloc[train_index], y_train.iloc[val_index]\n",
        "\n",
        "                            model = NeuralNet(input_size, hidden_size, activation_name)\n",
        "                            criterion = nn.BCELoss()\n",
        "                            optimizer = optim.Adam(model.parameters(), lr=lr) if optimizer_name == \"adam\" else optim.SGD(model.parameters(), lr=lr)\n",
        "\n",
        "                            # Convert data to PyTorch tensors\n",
        "                            X_train_tensor = torch.tensor(X_train_fold, dtype=torch.float32)\n",
        "                            y_train_tensor = torch.tensor(y_train_fold.values, dtype=torch.float32).view(-1, 1)\n",
        "                            X_val_tensor = torch.tensor(X_val_fold, dtype=torch.float32)\n",
        "                            y_val_tensor = torch.tensor(y_val_fold.values, dtype=torch.float32).view(-1, 1)\n",
        "\n",
        "                            # Training loop\n",
        "                            for epoch in range(10):\n",
        "                                optimizer.zero_grad()\n",
        "                                outputs = model(X_train_tensor)\n",
        "                                loss = criterion(outputs, y_train_tensor)\n",
        "                                loss.backward()\n",
        "                                optimizer.step()\n",
        "\n",
        "                            # Validation\n",
        "                            with torch.no_grad():\n",
        "                                y_pred_probs = model(X_val_tensor).numpy()\n",
        "                            auc_score = roc_auc_score(y_val_fold, y_pred_probs)\n",
        "                            fold_auc_scores.append(auc_score)\n",
        "\n",
        "                        mean_auc = np.mean(fold_auc_scores)\n",
        "\n",
        "                        if mean_auc > best_auc:\n",
        "                            best_auc = mean_auc\n",
        "                            best_model = model\n",
        "                            best_params = {\n",
        "                                \"hidden_size\": hidden_size,\n",
        "                                \"learning_rate\": lr,\n",
        "                                \"batch_size\": batch_size,\n",
        "                                \"optimizer\": optimizer_name,\n",
        "                                \"activation\": activation_name\n",
        "                            }\n",
        "\n",
        "    end_grid_time = time.time()\n",
        "    grid_search_time = end_grid_time - start_grid_time\n",
        "\n",
        "    return grid_search_time, best_model, best_params, best_auc\n"
      ],
      "metadata": {
        "id": "Qy40zAbK-7bY"
      },
      "execution_count": null,
      "outputs": []
    },
    {
      "cell_type": "markdown",
      "source": [
        "# Run Experiments on All Encoding Types"
      ],
      "metadata": {
        "id": "ljz7nsuK_Clr"
      }
    },
    {
      "cell_type": "code",
      "source": [
        "results = []\n",
        "\n",
        "for encoding_name, paths in encoding_paths.items():\n",
        "    print(f\"\\n Running Neural Network on {encoding_name} Encoding...\")\n",
        "\n",
        "    # Load training set\n",
        "    train = pd.read_csv(paths[\"train\"])\n",
        "\n",
        "    # Extract features & target\n",
        "    X_train, y_train = train.drop(columns=[target]), train[target]\n",
        "\n",
        "    # Standardize training data\n",
        "    scaler = StandardScaler()\n",
        "    X_train_scaled = scaler.fit_transform(X_train)\n",
        "\n",
        "    # Train Neural Network with Cross-Validation\n",
        "    grid_time, best_model, best_params, best_auc = train_neural_network_cv(X_train_scaled, y_train, X_train.shape[1])\n",
        "\n",
        "    # Train Best Model on full training set\n",
        "    start_train_time = time.time()\n",
        "\n",
        "    optimizer = optim.Adam(best_model.parameters(), lr=best_params[\"learning_rate\"]) if best_params[\"optimizer\"] == \"adam\" else optim.SGD(best_model.parameters(), lr=best_params[\"learning_rate\"])\n",
        "\n",
        "    best_model.train()\n",
        "    for epoch in range(10):\n",
        "        optimizer.zero_grad()\n",
        "        outputs = best_model(torch.tensor(X_train_scaled, dtype=torch.float32))\n",
        "        loss = nn.BCELoss()(outputs, torch.tensor(y_train.values, dtype=torch.float32).view(-1, 1))\n",
        "        loss.backward()\n",
        "        optimizer.step()\n",
        "\n",
        "    end_train_time = time.time()\n",
        "    train_time = end_train_time - start_train_time\n",
        "\n",
        "    # Load real validation set\n",
        "    val = pd.read_csv(paths[\"val\"])\n",
        "    X_val, y_val = val.drop(columns=[target]), val[target]\n",
        "\n",
        "    # Standardize validation features using the same scaler\n",
        "    X_val_scaled = scaler.transform(X_val)\n",
        "\n",
        "    # Evaluate on real validation set\n",
        "    start_eval_time = time.time()\n",
        "    with torch.no_grad():\n",
        "        y_pred_probs = best_model(torch.tensor(X_val_scaled, dtype=torch.float32)).numpy()\n",
        "    end_eval_time = time.time()\n",
        "\n",
        "    eval_time = end_eval_time - start_eval_time\n",
        "\n",
        "    # Calculate AUC on real validation set\n",
        "    val_auc = roc_auc_score(y_val, y_pred_probs)\n",
        "\n",
        "    # Save results\n",
        "    results.append({\n",
        "        \"Encoding\": encoding_name,\n",
        "        \"Grid Search Time (s)\": grid_time,\n",
        "        \"Final Training Time (s)\": train_time,\n",
        "        \"Evaluation Time (s)\": eval_time,\n",
        "        \"AUC Score\": val_auc\n",
        "    })\n",
        "\n",
        "# Convert to DataFrame\n",
        "results_df = pd.DataFrame(results)\n",
        "\n",
        "# Optional: Sort by AUC Score (best model on top)\n",
        "results_df = results_df.sort_values(by=\"AUC Score\", ascending=False)\n",
        "\n",
        "# Display final results\n",
        "print(results_df.to_string(index=False))\n"
      ],
      "metadata": {
        "colab": {
          "base_uri": "https://localhost:8080/"
        },
        "id": "5YeFAScd_D-7",
        "outputId": "49dcf283-70e2-4a12-fdee-d914581e9f34"
      },
      "execution_count": null,
      "outputs": [
        {
          "output_type": "stream",
          "name": "stdout",
          "text": [
            "\n",
            " Running Neural Network on Label Encoding...\n",
            "\n",
            " Running Neural Network on Frequency Encoding...\n",
            "\n",
            " Running Neural Network on Target Encoding...\n",
            "\n",
            " Running Neural Network on Hybrid Encoding...\n",
            "\n",
            " Running Neural Network on Label-Frequency Encoding...\n",
            "       Encoding  Grid Search Time (s)  Final Training Time (s)  Evaluation Time (s)  AUC Score\n",
            "         Target           4503.586350                52.092738             0.330945   0.692748\n",
            "          Label           4491.598618                51.429377             0.413242   0.676236\n",
            "         Hybrid           4482.196109                50.338474             0.290280   0.675878\n",
            "Label-Frequency           4504.433619                50.651973             0.270206   0.673184\n",
            "      Frequency           4517.495373                51.097507             0.274519   0.673013\n"
          ]
        }
      ]
    }
  ]
}